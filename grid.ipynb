{
 "cells": [
  {
   "cell_type": "code",
   "execution_count": 5,
   "metadata": {},
   "outputs": [
    {
     "name": "stdout",
     "output_type": "stream",
     "text": [
      "direction is:  [0, -1]\n",
      "old position is:  [0, 0]\n",
      "new position is:  [0, -1]\n"
     ]
    }
   ],
   "source": [
    "import random\n",
    "import pandas\n",
    "\n",
    "grid = [[0, 0, 1, 0, 0, 0],\n",
    "        [0, 0, 1, 0, 0, 0],\n",
    "        [0, 0, 0, 0, 1, 0],\n",
    "        [0, 0, 1, 1, 1, 0],\n",
    "        [0, 0, 0, 0, 1, 0]]\n",
    "init = [0, 0]\n",
    "goal = [len(grid)-1, len(grid[0])-1]\n",
    "cost = 1\n",
    "\n",
    "delta = [[ 1, 0], # go up\n",
    "         [ 0,-1], # go left\n",
    "         [-1, 0], # go down\n",
    "         [ 0, 1]] # go right\n",
    "\n",
    "position = init\n",
    "direction = random.choice(delta)\n",
    "\n",
    "currentRow = position[1]\n",
    "currentCol = position[0]\n",
    "\n",
    "newRow = position[1] + direction[1]\n",
    "newCol = position[0] + direction[0] \n",
    "\n",
    "\n",
    "print('direction is: ',direction)\n",
    "print('old position is: ',position)\n",
    "\n",
    "position = [newCol, newRow]\n",
    "print('new position is: ',position)\n",
    "\n",
    "\n",
    "    "
   ]
  },
  {
   "cell_type": "code",
   "execution_count": 17,
   "metadata": {},
   "outputs": [
    {
     "name": "stdout",
     "output_type": "stream",
     "text": [
      "Current value is:  0\n",
      "I moved this direction: \n",
      "old position: [0,0], new position: [1,0]\n",
      "My value is now:  3\n"
     ]
    }
   ],
   "source": [
    "\n",
    "class runn:\n",
    "    def __init__(self, position, verbose=False):\n",
    "        self.position = position\n",
    "        row = position[0]\n",
    "        col = position[1]\n",
    "        value = grid[self.position[0]][self.position[1]]\n",
    "        \n",
    "        if verbose == True:\n",
    "            print(\"Current value is: \", value)\n",
    "    \n",
    "    def move(self, goal, verbose=False):\n",
    "        \n",
    "        direction = random.choice(delta)\n",
    "\n",
    "        oldRow = self.position[0]\n",
    "        oldCol = self.position[1]\n",
    "        \n",
    "        if goal[0] < oldRow:\n",
    "            direction = [-1,0]\n",
    "        elif goal[0] == oldRow:\n",
    "            direction = [0,1]\n",
    "        \n",
    "        newRow = oldRow + direction[0]\n",
    "        newCol = oldCol + direction[1]\n",
    "        \n",
    "        self.position = [newRow, newCol]\n",
    "        \n",
    "        \n",
    "        if verbose == True:\n",
    "            print(\"I moved this direction: \")\n",
    "            print(\"old position: [%d,%d], new position: [%d,%d]\" \n",
    "                  % (oldRow,oldCol,newRow,newCol))\n",
    "            \n",
    "        value = grid[self.position[0]][self.position[1]]\n",
    "        print(\"My value is now: \", value)\n",
    "            \n",
    "            \n",
    "grid = [[0, 5, 1, 0, 0, 0],\n",
    "        [3, 0, 1, 0, 0, 0],\n",
    "        [0, 0, 0, 0, 1, 0],\n",
    "        [0, 0, 1, 1, 1, 0],\n",
    "        [0, 0, 0, 0, 1, 0]]\n",
    "\n",
    "init = [0, 0]\n",
    "goal = [len(grid)-1, len(grid[0])-1]\n",
    "cost = 1\n",
    "\n",
    "delta = [[ 1, 0], # go up\n",
    "         [ 0,-1], # go left\n",
    "         [-1, 0], # go down\n",
    "         [ 0, 1]] # go right\n",
    "\n",
    "\n",
    "go = runn(init,verbose=True)\n",
    "\n",
    "go.move(direction,verbose=True)\n",
    "\n"
   ]
  },
  {
   "cell_type": "code",
   "execution_count": 290,
   "metadata": {},
   "outputs": [
    {
     "data": {
      "text/plain": [
       "[0, 0, 0, 0, 1, 0]"
      ]
     },
     "execution_count": 290,
     "metadata": {},
     "output_type": "execute_result"
    }
   ],
   "source": [
    "grid[-1]"
   ]
  },
  {
   "cell_type": "code",
   "execution_count": 277,
   "metadata": {},
   "outputs": [
    {
     "data": {
      "text/plain": [
       "3"
      ]
     },
     "execution_count": 277,
     "metadata": {},
     "output_type": "execute_result"
    }
   ],
   "source": [
    "init = [3, 5]\n",
    "\n",
    "init[0]"
   ]
  },
  {
   "cell_type": "code",
   "execution_count": null,
   "metadata": {
    "collapsed": true
   },
   "outputs": [],
   "source": []
  },
  {
   "cell_type": "code",
   "execution_count": null,
   "metadata": {
    "collapsed": true
   },
   "outputs": [],
   "source": []
  },
  {
   "cell_type": "code",
   "execution_count": null,
   "metadata": {
    "collapsed": true
   },
   "outputs": [],
   "source": []
  },
  {
   "cell_type": "code",
   "execution_count": null,
   "metadata": {
    "collapsed": true
   },
   "outputs": [],
   "source": []
  }
 ],
 "metadata": {
  "kernelspec": {
   "display_name": "Python 3",
   "language": "python",
   "name": "python3"
  },
  "language_info": {
   "codemirror_mode": {
    "name": "ipython",
    "version": 3
   },
   "file_extension": ".py",
   "mimetype": "text/x-python",
   "name": "python",
   "nbconvert_exporter": "python",
   "pygments_lexer": "ipython3",
   "version": "3.6.1"
  }
 },
 "nbformat": 4,
 "nbformat_minor": 2
}
