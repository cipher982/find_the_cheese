{
 "cells": [
  {
   "cell_type": "code",
   "execution_count": 5,
   "metadata": {},
   "outputs": [
    {
     "name": "stdout",
     "output_type": "stream",
     "text": [
      "direction is:  [0, -1]\n",
      "old position is:  [0, 0]\n",
      "new position is:  [0, -1]\n"
     ]
    }
   ],
   "source": [
    "import random\n",
    "import pandas\n",
    "\n",
    "grid = [[0, 0, 1, 0, 0, 0],\n",
    "        [0, 0, 1, 0, 0, 0],\n",
    "        [0, 0, 0, 0, 1, 0],\n",
    "        [0, 0, 1, 1, 1, 0],\n",
    "        [0, 0, 0, 0, 1, 0]]\n",
    "init = [0, 0]\n",
    "goal = [len(grid)-1, len(grid[0])-1]\n",
    "cost = 1\n",
    "\n",
    "delta = [[ 1, 0], # go up\n",
    "         [ 0,-1], # go left\n",
    "         [-1, 0], # go down\n",
    "         [ 0, 1]] # go right\n",
    "\n",
    "position = init\n",
    "direction = random.choice(delta)\n",
    "\n",
    "currentRow = position[1]\n",
    "currentCol = position[0]\n",
    "\n",
    "newRow = position[1] + direction[1]\n",
    "newCol = position[0] + direction[0] \n",
    "\n",
    "\n",
    "print('direction is: ',direction)\n",
    "print('old position is: ',position)\n",
    "\n",
    "position = [newCol, newRow]\n",
    "print('new position is: ',position)\n",
    "\n",
    "\n",
    "    "
   ]
  },
  {
   "cell_type": "code",
   "execution_count": 1,
   "metadata": {},
   "outputs": [
    {
     "name": "stdout",
     "output_type": "stream",
     "text": [
      "Starting value is:  0\n",
      "Currently on:  [0, 0]\n",
      "Goal        :  [4, 5]\n",
      "direction is:  [1, 0]\n",
      "movinggg\n",
      "I moved this direction:  [1, 0]\n",
      "old position: [0,0], new position: [1,0]\n",
      "My value is now:  0\n",
      "----------------------------------------------------\n",
      "Currently on:  [1, 0]\n",
      "Goal        :  [4, 5]\n",
      "direction is:  [1, 0]\n",
      "movinggg\n",
      "I moved this direction:  [1, 0]\n",
      "old position: [1,0], new position: [2,0]\n",
      "My value is now:  0\n",
      "----------------------------------------------------\n",
      "Currently on:  [2, 0]\n",
      "Goal        :  [4, 5]\n",
      "direction is:  [1, 0]\n",
      "movinggg\n",
      "I moved this direction:  [1, 0]\n",
      "old position: [2,0], new position: [3,0]\n",
      "My value is now:  0\n",
      "----------------------------------------------------\n",
      "Currently on:  [3, 0]\n",
      "Goal        :  [4, 5]\n",
      "direction is:  [1, 0]\n",
      "movinggg\n",
      "I moved this direction:  [1, 0]\n",
      "old position: [3,0], new position: [4,0]\n",
      "My value is now:  0\n",
      "----------------------------------------------------\n",
      "Currently on:  [4, 0]\n",
      "Goal        :  [4, 5]\n",
      "I moved this direction:  [0, 1]\n",
      "old position: [4,0], new position: [4,1]\n",
      "My value is now:  0\n",
      "----------------------------------------------------\n",
      "Currently on:  [4, 1]\n",
      "Goal        :  [4, 5]\n",
      "I moved this direction:  [0, 1]\n",
      "old position: [4,1], new position: [4,2]\n",
      "My value is now:  0\n",
      "----------------------------------------------------\n",
      "Currently on:  [4, 2]\n",
      "Goal        :  [4, 5]\n",
      "I moved this direction:  [0, 1]\n",
      "old position: [4,2], new position: [4,3]\n",
      "My value is now:  0\n",
      "----------------------------------------------------\n",
      "Currently on:  [4, 3]\n",
      "Goal        :  [4, 5]\n",
      "Currently on:  [4, 3]\n",
      "Goal        :  [4, 5]\n",
      "Currently on:  [4, 3]\n",
      "Goal        :  [4, 5]\n",
      "Currently on:  [4, 3]\n",
      "Goal        :  [4, 5]\n",
      "Currently on:  [4, 3]\n",
      "Goal        :  [4, 5]\n",
      "Currently on:  [4, 3]\n",
      "Goal        :  [4, 5]\n"
     ]
    }
   ],
   "source": [
    "import random\n",
    "import pandas as pd\n",
    "import numpy as np\n",
    "\n",
    "class runn:\n",
    "    def __init__(self, position, verbose=False):\n",
    "        self.position = position\n",
    "        row = position[0]\n",
    "        col = position[1]\n",
    "        value = grid[self.position[0]][self.position[1]]\n",
    "        \n",
    "        if verbose == True:\n",
    "            print(\"Starting value is: \", value)\n",
    "            \n",
    "    def myPos(self):\n",
    "        print(\"Current position is: \", position)\n",
    "    \n",
    "    def move(self, goal, verbose=False):\n",
    "        # For random search, let's go purposefully for now\n",
    "        #direction = random.choice(choices)\n",
    "        oldRow = self.position[0]\n",
    "        oldCol = self.position[1]\n",
    "        print(\"Currently on: \",self.position)\n",
    "        print(\"Goal        : \", goal)\n",
    "        \n",
    "        def getValue(direction):\n",
    "            row = self.position[0] + direction[0]\n",
    "            col = self.position[1] + direction[1]\n",
    "            if grid[row][col] == 0:\n",
    "                return True\n",
    "            elif grid[row][col] == 1:\n",
    "                return False\n",
    "            else:\n",
    "                print(\"somehow have \",grid[row][col],\" as a value!\")\n",
    "                return\n",
    "        \n",
    "        def moveNow():\n",
    "            newRow = oldRow + direction[0]\n",
    "            newCol = oldCol + direction[1]\n",
    "            \n",
    "            value = grid[self.position[0]][self.position[1]]\n",
    "            self.position = [newRow, newCol]\n",
    "            \n",
    "            if verbose == True:\n",
    "                print(\"I moved this direction: \",direction)\n",
    "                print(\"old position: [%d,%d], new position: [%d,%d]\" \n",
    "                      % (oldRow,oldCol,newRow,newCol))\n",
    "                print(\"My value is now: \", value)\n",
    "                print(\"----------------------------------------------------\")\n",
    "\n",
    "        \n",
    "        move = False\n",
    "        if goal[0] > oldRow:\n",
    "            direction = [1,0]\n",
    "            print(\"direction is: \",direction)\n",
    "            if getValue(direction):\n",
    "                print(\"moving down\")\n",
    "                moveNow()\n",
    "                return\n",
    "            skip = True\n",
    "            print(\"I set skip = True\")\n",
    "        elif goal[0] == oldRow or skip == True:\n",
    "            direction = [0,1]\n",
    "            if getValue(direction):\n",
    "                print(\"moving right\")\n",
    "                moveNow()\n",
    "                skip = False\n",
    "                return\n",
    "            skip = True\n",
    "        elif goal[0] > oldRow or skip == True:\n",
    "            direction = [-1,0]\n",
    "            if getValue(direction):\n",
    "                print(\"moving up\")\n",
    "                moveNow()\n",
    "                return\n",
    "            skip = True\n",
    "        else:\n",
    "            print(\"else! GOING RIGHT!\")\n",
    "            direction = [0,1]\n",
    "            if getValue(direction):\n",
    "                moveNow()\n",
    "                return\n",
    "            else:\n",
    "                print(\"I'm stuck trying to go right!\")\n",
    "                return\n",
    "        \n",
    "\n",
    "        \n",
    "grid = [[0, 0, 1, 0, 0, 0],\n",
    "        [0, 0, 1, 0, 0, 0],\n",
    "        [0, 0, 0, 0, 1, 0],\n",
    "        [0, 0, 1, 1, 1, 0],\n",
    "        [0, 0, 0, 0, 1, 0]]\n",
    "\n",
    "init = [0, 0]\n",
    "goal = [len(grid)-1, len(grid[0])-1]\n",
    "cost = 1\n",
    "\n",
    "delta = [[ 1, 0], # go up\n",
    "         [ 0,-1], # go left\n",
    "         [-1, 0], # go down\n",
    "         [ 0, 1]] # go right\n",
    "\n",
    "\n",
    "go = runn(init,verbose=True)\n",
    "\n",
    "for i in range(0,13):\n",
    "    go.move(goal=goal,verbose=True)\n",
    "\n"
   ]
  },
  {
   "cell_type": "code",
   "execution_count": null,
   "metadata": {
    "collapsed": true
   },
   "outputs": [],
   "source": [
    "random"
   ]
  },
  {
   "cell_type": "code",
   "execution_count": 290,
   "metadata": {},
   "outputs": [
    {
     "data": {
      "text/plain": [
       "[0, 0, 0, 0, 1, 0]"
      ]
     },
     "execution_count": 290,
     "metadata": {},
     "output_type": "execute_result"
    }
   ],
   "source": [
    "grid[-1]"
   ]
  },
  {
   "cell_type": "code",
   "execution_count": 277,
   "metadata": {},
   "outputs": [
    {
     "data": {
      "text/plain": [
       "3"
      ]
     },
     "execution_count": 277,
     "metadata": {},
     "output_type": "execute_result"
    }
   ],
   "source": [
    "init = [3, 5]\n",
    "\n",
    "init[0]"
   ]
  },
  {
   "cell_type": "code",
   "execution_count": null,
   "metadata": {
    "collapsed": true
   },
   "outputs": [],
   "source": []
  },
  {
   "cell_type": "code",
   "execution_count": null,
   "metadata": {
    "collapsed": true
   },
   "outputs": [],
   "source": []
  },
  {
   "cell_type": "code",
   "execution_count": null,
   "metadata": {
    "collapsed": true
   },
   "outputs": [],
   "source": []
  },
  {
   "cell_type": "code",
   "execution_count": null,
   "metadata": {
    "collapsed": true
   },
   "outputs": [],
   "source": []
  }
 ],
 "metadata": {
  "kernelspec": {
   "display_name": "Python 3",
   "language": "python",
   "name": "python3"
  },
  "language_info": {
   "codemirror_mode": {
    "name": "ipython",
    "version": 3
   },
   "file_extension": ".py",
   "mimetype": "text/x-python",
   "name": "python",
   "nbconvert_exporter": "python",
   "pygments_lexer": "ipython3",
   "version": "3.6.1"
  }
 },
 "nbformat": 4,
 "nbformat_minor": 2
}
